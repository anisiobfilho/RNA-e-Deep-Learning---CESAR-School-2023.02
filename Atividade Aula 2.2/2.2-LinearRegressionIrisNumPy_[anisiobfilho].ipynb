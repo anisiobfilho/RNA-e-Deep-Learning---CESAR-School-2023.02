{
  "cells": [
    {
      "cell_type": "markdown",
      "metadata": {},
      "source": [
        "Centro de Estudos e Sistemas Avançados do Recife\n",
        "\n",
        "Pós-graduação em Engenharia e Análise de Dados\n",
        "\n",
        "Disciplina de RNA e Deep Learning\n",
        "\n",
        "Professor: Vitor Casadei\n",
        "\n",
        "Aluno: Anísio Pereira Batista Filho"
      ]
    },
    {
      "cell_type": "markdown",
      "metadata": {
        "id": "5yQgzdjbf9RT"
      },
      "source": [
        "# Regressão Linear com NumPy"
      ]
    },
    {
      "cell_type": "markdown",
      "metadata": {
        "heading_collapsed": true,
        "id": "p5HfrYM3f9RU"
      },
      "source": [
        "## Objetivos deste experimento"
      ]
    },
    {
      "cell_type": "markdown",
      "metadata": {
        "hidden": true,
        "id": "IIYC2db7f9RW"
      },
      "source": [
        "Este exemplo utiliza regressão linear para estimar o comprimento das sépalas da íris a partir do seu comprimento das pétalas.\n",
        "Utiliza-se programação totalmente NumPy com:\n",
        "- o **cálculo do gradiente**,\n",
        "- a **função de perda** e\n",
        "- a atualização dos parâmetros são feitos de forma explícita.\n",
        "- A rede é criada com uma camada como uma classe"
      ]
    },
    {
      "cell_type": "markdown",
      "metadata": {
        "hidden": true,
        "id": "ImJOZIiNf9RW"
      },
      "source": [
        "![alt text](https://raw.githubusercontent.com/vcasadei/images/master/RegressaoLinear_Otimizacao.png)"
      ]
    },
    {
      "cell_type": "markdown",
      "metadata": {
        "heading_collapsed": true,
        "id": "EeTHWCuMf9RX"
      },
      "source": [
        "## Importação dos pacotes"
      ]
    },
    {
      "cell_type": "code",
      "execution_count": 20,
      "metadata": {
        "ExecuteTime": {
          "end_time": "2017-10-08T11:19:38.728936Z",
          "start_time": "2017-10-08T11:19:36.888541Z"
        },
        "hidden": true,
        "id": "5yPytaCLf9RY"
      },
      "outputs": [],
      "source": [
        "%matplotlib inline\n",
        "import matplotlib.pyplot as plt   # para plotting\n",
        "\n",
        "from sklearn.datasets import load_iris  # para carregar dataset\n",
        "\n",
        "import numpy as np  # processamento matricial\n",
        "\n",
        "np.random.seed(1234)"
      ]
    },
    {
      "cell_type": "markdown",
      "metadata": {
        "heading_collapsed": true,
        "id": "wDkSLSnmf9Rc"
      },
      "source": [
        "## Dataset"
      ]
    },
    {
      "cell_type": "markdown",
      "metadata": {
        "heading_collapsed": true,
        "hidden": true,
        "id": "ldcOnrBvf9Rd"
      },
      "source": [
        "### Leitura dos dados"
      ]
    },
    {
      "cell_type": "code",
      "execution_count": 21,
      "metadata": {
        "ExecuteTime": {
          "end_time": "2017-10-08T11:19:38.747769Z",
          "start_time": "2017-10-08T11:19:38.730907Z"
        },
        "colab": {
          "base_uri": "https://localhost:8080/"
        },
        "hidden": true,
        "id": "l3t1qaa0f9Re",
        "outputId": "a85ca21c-b3a2-49dc-801a-548a16bb8a6d"
      },
      "outputs": [
        {
          "name": "stdout",
          "output_type": "stream",
          "text": [
            "x_train.shape: (50, 1) float64\n",
            "y_train.shape: (50, 1) float64\n",
            "x_train[:5]:\n",
            " [[7. ]\n",
            " [6.4]\n",
            " [6.9]\n",
            " [5.5]\n",
            " [6.5]]\n",
            "y_train[:5]:\n",
            " [[4.7]\n",
            " [4.5]\n",
            " [4.9]\n",
            " [4. ]\n",
            " [4.6]]\n"
          ]
        }
      ],
      "source": [
        "iris = load_iris()\n",
        "data = iris.data[iris.target==1,::2]  # comprimento das sépalas e pétalas, indices 0 e 2\n",
        "\n",
        "x_train = data[:,0:1]\n",
        "y_train = data[:,1:2]\n",
        "\n",
        "n_samples = x_train.shape[0]\n",
        "print('x_train.shape:',x_train.shape, x_train.dtype)\n",
        "print('y_train.shape:',y_train.shape, y_train.dtype)\n",
        "\n",
        "print('x_train[:5]:\\n', x_train[:5])\n",
        "print('y_train[:5]:\\n', y_train[:5])"
      ]
    },
    {
      "cell_type": "markdown",
      "metadata": {
        "hidden": true,
        "id": "aPQ-L6FVf9Rk"
      },
      "source": [
        "### Normalização dos dados"
      ]
    },
    {
      "cell_type": "code",
      "execution_count": 22,
      "metadata": {
        "ExecuteTime": {
          "end_time": "2017-10-08T11:19:38.756343Z",
          "start_time": "2017-10-08T11:19:38.750395Z"
        },
        "hidden": true,
        "id": "POM323GEf9Rl"
      },
      "outputs": [],
      "source": [
        "x_train -= x_train.min()\n",
        "x_train /= x_train.max()\n",
        "y_train -= y_train.min()\n",
        "y_train /= y_train.max()"
      ]
    },
    {
      "cell_type": "code",
      "execution_count": 23,
      "metadata": {
        "ExecuteTime": {
          "end_time": "2017-10-08T11:19:39.127199Z",
          "start_time": "2017-10-08T11:19:38.759104Z"
        },
        "colab": {
          "base_uri": "https://localhost:8080/",
          "height": 466
        },
        "hidden": true,
        "id": "dx5AO9Qxf9Rn",
        "outputId": "ba38c600-9612-4980-ca72-63968337712f"
      },
      "outputs": [
        {
          "data": {
            "text/plain": [
              "Text(0, 0.5, 'Comprimento petalas')"
            ]
          },
          "execution_count": 23,
          "metadata": {},
          "output_type": "execute_result"
        },
        {
          "data": {
            "image/png": "[encoded data removed]",
            "text/plain": [
              "<Figure size 640x480 with 1 Axes>"
            ]
          },
          "metadata": {},
          "output_type": "display_data"
        }
      ],
      "source": [
        "plt.scatter(x_train,y_train)\n",
        "plt.xlabel('Comprimento sepalas')\n",
        "plt.ylabel('Comprimento petalas')"
      ]
    },
    {
      "cell_type": "markdown",
      "metadata": {
        "heading_collapsed": true,
        "id": "poW81teqf9Rr"
      },
      "source": [
        "## Modelo da rede"
      ]
    },
    {
      "cell_type": "markdown",
      "metadata": {
        "hidden": true,
        "id": "QXFLlJ0_f9Rt"
      },
      "source": [
        "### Reta de ajuste"
      ]
    },
    {
      "cell_type": "markdown",
      "metadata": {
        "hidden": true,
        "id": "s7JuPXysf9Rt"
      },
      "source": [
        "A equação da reta no plano necessita de dois parâmetros, aqui denominados $w_0$ (*bias*) e inclinação $w_1$. Veja figura:\n",
        "\n",
        "![alt text](https://raw.githubusercontent.com/vcasadei/images/master/linhareta.png)\n",
        "\n",
        "A reta de ajuste será dada por:\n",
        "\n",
        "$$ \\hat{y} = w_0 + w_1 x $$\n",
        "\n",
        "onde\n",
        "* $w_1$ é o coeficiente angular da reta e\n",
        "* $w_0$ é a interseção do eixo vertical quando x é igual a zero, também denominado de *bias*.\n",
        "* $x$ é a variável de entrada (comprimento das sépalas) e\n",
        "* $\\hat{y}$ é a predição (comprimento estimado das pétalas)."
      ]
    },
    {
      "cell_type": "markdown",
      "metadata": {
        "hidden": true,
        "id": "hwin_xPff9Ru"
      },
      "source": [
        "### Linear Regression Model"
      ]
    },
    {
      "cell_type": "markdown",
      "metadata": {
        "hidden": true,
        "id": "c7ilOLnkf9Rw"
      },
      "source": [
        "![alt text](https://raw.githubusercontent.com/vcasadei/images/master/RegressaoLinearNeuronio.png)"
      ]
    },
    {
      "cell_type": "markdown",
      "metadata": {
        "hidden": true,
        "id": "H0CzMB91f9Rx"
      },
      "source": [
        "### Formulação matricial do neurônio"
      ]
    },
    {
      "cell_type": "markdown",
      "metadata": {
        "hidden": true,
        "id": "-wWz_wpYf9Ry"
      },
      "source": [
        "* $\\mathbf{w} = [w_0 \\ w_1]$ é vetor linha de parâmetros e\n",
        "* $\\mathbf{x} = [1 \\ x_0] $ é vetor linha de uma amostra (com *bias*).\n",
        "\n",
        "$$ \\hat{y} = 1 w_0 + x_0 w_1 $$\n",
        "\n",
        "$$ [\\hat{y}] = [1 \\ x_0] \\begin{bmatrix} w_0 \\\\ w_1 \\end{bmatrix} $$\n",
        "\n",
        "$$ \\mathbf{\\hat{y}} = \\mathbf{x} \\mathbf{w^T} $$"
      ]
    },
    {
      "cell_type": "markdown",
      "metadata": {
        "hidden": true,
        "id": "rQ1lc-dYf9Rz"
      },
      "source": [
        "### Fazendo o predict de várias amostras"
      ]
    },
    {
      "cell_type": "markdown",
      "metadata": {
        "hidden": true,
        "id": "fh068Clrf9R0"
      },
      "source": [
        "$$ \\begin{matrix}\n",
        "\\begin{bmatrix}\n",
        "\\hat{y}_0\\\\\n",
        "\\hat{y}_1\\\\\n",
        "\\\\\n",
        "\\hat{y}_{M-1}\n",
        "\\end{bmatrix} &=& \\begin{bmatrix}\n",
        "1 & x_0 \\\\\n",
        "1 & x_1\\\\\n",
        "\\\\\n",
        "1 & x_{M-1} \\\\\n",
        "\\end{bmatrix}\n",
        "&\n",
        "\\begin{bmatrix}\n",
        "w_0\\\\\n",
        "w_1\n",
        "\\end{bmatrix} \\\\\n",
        "(M,1) & & (M,2) & (2,1) \\\\\n",
        "\\end{matrix} $$"
      ]
    },
    {
      "cell_type": "markdown",
      "metadata": {
        "hidden": true,
        "id": "jjSchAsZf9R2"
      },
      "source": [
        "### Preenchendo x com coluna de 1's para bias"
      ]
    },
    {
      "cell_type": "code",
      "execution_count": 24,
      "metadata": {
        "ExecuteTime": {
          "end_time": "2017-10-08T11:19:39.135089Z",
          "start_time": "2017-10-08T11:19:39.129385Z"
        },
        "hidden": true,
        "id": "plZEY5-tf9R2"
      },
      "outputs": [],
      "source": [
        "x_train_bias = np.hstack([np.ones(shape=(n_samples,1)), x_train])"
      ]
    },
    {
      "cell_type": "code",
      "execution_count": 25,
      "metadata": {
        "colab": {
          "base_uri": "https://localhost:8080/"
        },
        "id": "tXYx3JdMf9R6",
        "outputId": "311b8d61-b464-46a7-de6e-ca2e2f4e7633"
      },
      "outputs": [
        {
          "data": {
            "text/plain": [
              "array([[1.        , 1.        ],\n",
              "       [1.        , 0.71428571],\n",
              "       [1.        , 0.95238095],\n",
              "       [1.        , 0.28571429],\n",
              "       [1.        , 0.76190476],\n",
              "       [1.        , 0.38095238],\n",
              "       [1.        , 0.66666667],\n",
              "       [1.        , 0.        ],\n",
              "       [1.        , 0.80952381],\n",
              "       [1.        , 0.14285714],\n",
              "       [1.        , 0.04761905],\n",
              "       [1.        , 0.47619048],\n",
              "       [1.        , 0.52380952],\n",
              "       [1.        , 0.57142857],\n",
              "       [1.        , 0.33333333],\n",
              "       [1.        , 0.85714286],\n",
              "       [1.        , 0.33333333],\n",
              "       [1.        , 0.42857143],\n",
              "       [1.        , 0.61904762],\n",
              "       [1.        , 0.33333333],\n",
              "       [1.        , 0.47619048],\n",
              "       [1.        , 0.57142857],\n",
              "       [1.        , 0.66666667],\n",
              "       [1.        , 0.57142857],\n",
              "       [1.        , 0.71428571],\n",
              "       [1.        , 0.80952381],\n",
              "       [1.        , 0.9047619 ],\n",
              "       [1.        , 0.85714286],\n",
              "       [1.        , 0.52380952],\n",
              "       [1.        , 0.38095238],\n",
              "       [1.        , 0.28571429],\n",
              "       [1.        , 0.28571429],\n",
              "       [1.        , 0.42857143],\n",
              "       [1.        , 0.52380952],\n",
              "       [1.        , 0.23809524],\n",
              "       [1.        , 0.52380952],\n",
              "       [1.        , 0.85714286],\n",
              "       [1.        , 0.66666667],\n",
              "       [1.        , 0.33333333],\n",
              "       [1.        , 0.28571429],\n",
              "       [1.        , 0.28571429],\n",
              "       [1.        , 0.57142857],\n",
              "       [1.        , 0.42857143],\n",
              "       [1.        , 0.04761905],\n",
              "       [1.        , 0.33333333],\n",
              "       [1.        , 0.38095238],\n",
              "       [1.        , 0.38095238],\n",
              "       [1.        , 0.61904762],\n",
              "       [1.        , 0.0952381 ],\n",
              "       [1.        , 0.38095238]])"
            ]
          },
          "execution_count": 25,
          "metadata": {},
          "output_type": "execute_result"
        }
      ],
      "source": [
        "x_train_bias"
      ]
    },
    {
      "cell_type": "markdown",
      "metadata": {
        "hidden": true,
        "id": "GOtS_8OSf9SC"
      },
      "source": [
        "### Classe com o modelo da rede"
      ]
    },
    {
      "cell_type": "code",
      "execution_count": 26,
      "metadata": {
        "ExecuteTime": {
          "end_time": "2017-10-08T11:19:39.143879Z",
          "start_time": "2017-10-08T11:19:39.137134Z"
        },
        "hidden": true,
        "id": "aKLVIQUtf9SD"
      },
      "outputs": [],
      "source": [
        "class Net():\n",
        "    def __init__(self, n_in, n_out):\n",
        "        self.w = np.random.uniform(-0.1,0.1,(n_out,n_in)) #inicialização dos parâmetros\n",
        "\n",
        "    def forward(self, x_bias):\n",
        "        return x_bias.dot(self.w.T)"
      ]
    },
    {
      "cell_type": "markdown",
      "metadata": {
        "hidden": true,
        "id": "0j0hN9l_f9SH"
      },
      "source": [
        "### Criando a rede, instanciando o objeto model"
      ]
    },
    {
      "cell_type": "code",
      "execution_count": 27,
      "metadata": {
        "ExecuteTime": {
          "end_time": "2017-10-08T11:19:39.151717Z",
          "start_time": "2017-10-08T11:19:39.146858Z"
        },
        "hidden": true,
        "id": "5o5Zkqn5f9SI"
      },
      "outputs": [],
      "source": [
        "model = Net(2,1) # duas entradas (1 + x0) e uma saída y_pred"
      ]
    },
    {
      "cell_type": "markdown",
      "metadata": {
        "hidden": true,
        "id": "F3yolUOGf9SL"
      },
      "source": [
        "### Testando o predict da rede (mesmo sem treiná-la)"
      ]
    },
    {
      "cell_type": "code",
      "execution_count": 28,
      "metadata": {
        "ExecuteTime": {
          "end_time": "2017-10-08T11:19:39.162189Z",
          "start_time": "2017-10-08T11:19:39.156018Z"
        },
        "colab": {
          "base_uri": "https://localhost:8080/"
        },
        "hidden": true,
        "id": "BzkEurfof9SN",
        "outputId": "57162187-d143-4e70-857f-7826a659ce62"
      },
      "outputs": [
        {
          "data": {
            "text/plain": [
              "array([[-0.09602795],\n",
              "       [ 0.0661236 ],\n",
              "       [-0.06857828],\n",
              "       [-0.05573871]])"
            ]
          },
          "execution_count": 28,
          "metadata": {},
          "output_type": "execute_result"
        }
      ],
      "source": [
        "xin = np.random.randn(4,2) # 4 amostras, 2 entradas (1 + x0)\n",
        "ypred = model.forward(xin)\n",
        "ypred"
      ]
    },
    {
      "cell_type": "markdown",
      "metadata": {
        "heading_collapsed": true,
        "id": "edoSiy--f9SS"
      },
      "source": [
        "## Treinamento via gradiente descendente"
      ]
    },
    {
      "cell_type": "markdown",
      "metadata": {
        "hidden": true,
        "id": "SnkXXFref9ST"
      },
      "source": [
        "Função de perda:\n",
        "$$ J(\\hat{y_i},y_i) = \\frac{1}{M} \\sum_{i=0}^{M-1} (\\hat{y_i} - y_i)^2 $$"
      ]
    },
    {
      "cell_type": "markdown",
      "metadata": {
        "ExecuteTime": {
          "end_time": "2017-10-05T14:05:06.244776",
          "start_time": "2017-10-05T14:05:06.240743"
        },
        "hidden": true,
        "id": "6W5QcPwUf9SU"
      },
      "source": [
        "Gradiente:\n",
        "$$  \\mathbf{\\nabla{J_w}} = \\frac{2}{M}\\mathbf{x^T}(\\mathbf{x w^T} - \\mathbf{y}) $$"
      ]
    },
    {
      "cell_type": "markdown",
      "metadata": {
        "ExecuteTime": {
          "end_time": "2017-10-05T14:06:17.929718",
          "start_time": "2017-10-05T14:06:17.925519"
        },
        "hidden": true,
        "id": "6OoQuuvAf9SU"
      },
      "source": [
        "Atualização dos parâmetros pelo gradiente descendente:\n",
        "$$ \\mathbf{w} = \\mathbf{w} − \\eta (\\mathbf{\\nabla J_w})^T $$"
      ]
    },
    {
      "cell_type": "markdown",
      "metadata": {
        "hidden": true,
        "id": "YM0fEnAdf9SW"
      },
      "source": [
        "### Laço de treinamento"
      ]
    },
    {
      "cell_type": "code",
      "execution_count": 29,
      "metadata": {
        "ExecuteTime": {
          "end_time": "2017-10-08T11:19:39.183784Z",
          "start_time": "2017-10-08T11:19:39.165347Z"
        },
        "colab": {
          "base_uri": "https://localhost:8080/"
        },
        "hidden": true,
        "id": "BiCGgqp6f9SX",
        "outputId": "a2c36898-c203-427e-aa12-3cf3e20417e2",
        "scrolled": false
      },
      "outputs": [
        {
          "name": "stdout",
          "output_type": "stream",
          "text": [
            "Epoch[1/100], loss: 0.469163\n",
            "Epoch[2/100], loss: 0.058070\n",
            "Epoch[3/100], loss: 0.030543\n",
            "Epoch[4/100], loss: 0.028105\n",
            "Epoch[5/100], loss: 0.027364\n",
            "Epoch[6/100], loss: 0.026787\n",
            "Epoch[7/100], loss: 0.026269\n",
            "Epoch[8/100], loss: 0.025799\n",
            "Epoch[9/100], loss: 0.025373\n",
            "Epoch[10/100], loss: 0.024986\n",
            "Epoch[11/100], loss: 0.024634\n",
            "Epoch[12/100], loss: 0.024315\n",
            "Epoch[13/100], loss: 0.024025\n",
            "Epoch[14/100], loss: 0.023762\n",
            "Epoch[15/100], loss: 0.023524\n",
            "Epoch[16/100], loss: 0.023307\n",
            "Epoch[17/100], loss: 0.023110\n",
            "Epoch[18/100], loss: 0.022931\n",
            "Epoch[19/100], loss: 0.022769\n",
            "Epoch[20/100], loss: 0.022622\n",
            "Epoch[21/100], loss: 0.022488\n",
            "Epoch[22/100], loss: 0.022366\n",
            "Epoch[23/100], loss: 0.022256\n",
            "Epoch[24/100], loss: 0.022156\n",
            "Epoch[25/100], loss: 0.022065\n",
            "Epoch[26/100], loss: 0.021983\n",
            "Epoch[27/100], loss: 0.021908\n",
            "Epoch[28/100], loss: 0.021840\n",
            "Epoch[29/100], loss: 0.021778\n",
            "Epoch[30/100], loss: 0.021722\n",
            "Epoch[31/100], loss: 0.021671\n",
            "Epoch[32/100], loss: 0.021625\n",
            "Epoch[33/100], loss: 0.021583\n",
            "Epoch[34/100], loss: 0.021545\n",
            "Epoch[35/100], loss: 0.021510\n",
            "Epoch[36/100], loss: 0.021479\n",
            "Epoch[37/100], loss: 0.021450\n",
            "Epoch[38/100], loss: 0.021425\n",
            "Epoch[39/100], loss: 0.021401\n",
            "Epoch[40/100], loss: 0.021380\n",
            "Epoch[41/100], loss: 0.021360\n",
            "Epoch[42/100], loss: 0.021343\n",
            "Epoch[43/100], loss: 0.021327\n",
            "Epoch[44/100], loss: 0.021312\n",
            "Epoch[45/100], loss: 0.021299\n",
            "Epoch[46/100], loss: 0.021287\n",
            "Epoch[47/100], loss: 0.021276\n",
            "Epoch[48/100], loss: 0.021267\n",
            "Epoch[49/100], loss: 0.021258\n",
            "Epoch[50/100], loss: 0.021249\n",
            "Epoch[51/100], loss: 0.021242\n",
            "Epoch[52/100], loss: 0.021235\n",
            "Epoch[53/100], loss: 0.021229\n",
            "Epoch[54/100], loss: 0.021224\n",
            "Epoch[55/100], loss: 0.021219\n",
            "Epoch[56/100], loss: 0.021214\n",
            "Epoch[57/100], loss: 0.021210\n",
            "Epoch[58/100], loss: 0.021206\n",
            "Epoch[59/100], loss: 0.021203\n",
            "Epoch[60/100], loss: 0.021200\n",
            "Epoch[61/100], loss: 0.021197\n",
            "Epoch[62/100], loss: 0.021195\n",
            "Epoch[63/100], loss: 0.021192\n",
            "Epoch[64/100], loss: 0.021190\n",
            "Epoch[65/100], loss: 0.021188\n",
            "Epoch[66/100], loss: 0.021186\n",
            "Epoch[67/100], loss: 0.021185\n",
            "Epoch[68/100], loss: 0.021183\n",
            "Epoch[69/100], loss: 0.021182\n",
            "Epoch[70/100], loss: 0.021181\n",
            "Epoch[71/100], loss: 0.021180\n",
            "Epoch[72/100], loss: 0.021179\n",
            "Epoch[73/100], loss: 0.021178\n",
            "Epoch[74/100], loss: 0.021177\n",
            "Epoch[75/100], loss: 0.021177\n",
            "Epoch[76/100], loss: 0.021176\n",
            "Epoch[77/100], loss: 0.021175\n",
            "Epoch[78/100], loss: 0.021175\n",
            "Epoch[79/100], loss: 0.021174\n",
            "Epoch[80/100], loss: 0.021174\n",
            "Epoch[81/100], loss: 0.021173\n",
            "Epoch[82/100], loss: 0.021173\n",
            "Epoch[83/100], loss: 0.021173\n",
            "Epoch[84/100], loss: 0.021172\n",
            "Epoch[85/100], loss: 0.021172\n",
            "Epoch[86/100], loss: 0.021172\n",
            "Epoch[87/100], loss: 0.021172\n",
            "Epoch[88/100], loss: 0.021171\n",
            "Epoch[89/100], loss: 0.021171\n",
            "Epoch[90/100], loss: 0.021171\n",
            "Epoch[91/100], loss: 0.021171\n",
            "Epoch[92/100], loss: 0.021171\n",
            "Epoch[93/100], loss: 0.021171\n",
            "Epoch[94/100], loss: 0.021171\n",
            "Epoch[95/100], loss: 0.021170\n",
            "Epoch[96/100], loss: 0.021170\n",
            "Epoch[97/100], loss: 0.021170\n",
            "Epoch[98/100], loss: 0.021170\n",
            "Epoch[99/100], loss: 0.021170\n",
            "Epoch[100/100], loss: 0.021170\n"
          ]
        }
      ],
      "source": [
        "num_epochs = 100\n",
        "learning_rate = 0.5\n",
        "for epoch in range(num_epochs):\n",
        "\n",
        "    # forward - predict\n",
        "    y_pred = model.forward(x_train_bias)\n",
        "\n",
        "    #loss cálculo da função de perda\n",
        "    loss = np.square(y_pred - y_train).mean()\n",
        "\n",
        "    # cálculo do gradiente pelas derivadas parciais\n",
        "    w_grad = (2.0/n_samples) * (x_train_bias.T).dot(x_train_bias.dot(model.w.T) - y_train)\n",
        "\n",
        "    # gradiente descendente\n",
        "    model.w = model.w - learning_rate * w_grad.T\n",
        "\n",
        "    # verbose\n",
        "    if (epoch+1) % 1 == 0:\n",
        "        print('Epoch[{}/{}], loss: {:.6f}'\n",
        "              .format(epoch+1, num_epochs, loss))"
      ]
    },
    {
      "cell_type": "markdown",
      "metadata": {
        "heading_collapsed": true,
        "id": "1QGlDZABf9Sd"
      },
      "source": [
        "## Avaliação"
      ]
    },
    {
      "cell_type": "markdown",
      "metadata": {
        "hidden": true,
        "id": "6TIimlCmf9Si"
      },
      "source": [
        "### Predict"
      ]
    },
    {
      "cell_type": "code",
      "execution_count": 30,
      "metadata": {
        "ExecuteTime": {
          "end_time": "2017-10-08T11:19:39.408412Z",
          "start_time": "2017-10-08T11:19:39.186021Z"
        },
        "colab": {
          "base_uri": "https://localhost:8080/",
          "height": 447
        },
        "hidden": true,
        "id": "ToXwbrlsf9Sk",
        "outputId": "292cbac9-1302-417b-d950-bc19f5093085"
      },
      "outputs": [
        {
          "data": {
            "text/plain": [
              "[<matplotlib.lines.Line2D at 0x1c9ea4372b0>]"
            ]
          },
          "execution_count": 30,
          "metadata": {},
          "output_type": "execute_result"
        },
        {
          "data": {
            "image/png": "[encoded data removed]",
            "text/plain": [
              "<Figure size 640x480 with 1 Axes>"
            ]
          },
          "metadata": {},
          "output_type": "display_data"
        }
      ],
      "source": [
        "y_pred = model.forward(x_train_bias)\n",
        "plt.plot(x_train, y_train, 'ro', label='Original data')\n",
        "plt.plot(x_train, y_pred, 'kx-', label='Fitting Line')"
      ]
    },
    {
      "cell_type": "markdown",
      "metadata": {
        "hidden": true,
        "id": "kQ1hGdItf9So"
      },
      "source": [
        "### Parâmetros treinados"
      ]
    },
    {
      "cell_type": "code",
      "execution_count": 31,
      "metadata": {
        "ExecuteTime": {
          "end_time": "2017-10-08T11:19:39.417569Z",
          "start_time": "2017-10-08T11:19:39.411060Z"
        },
        "colab": {
          "base_uri": "https://localhost:8080/"
        },
        "hidden": true,
        "id": "IcEOxTg9f9Sp",
        "outputId": "9ad68af2-a35d-4d5c-83a5-05999232e7c2"
      },
      "outputs": [
        {
          "name": "stdout",
          "output_type": "stream",
          "text": [
            "[[0.26295353 0.68335641]]\n"
          ]
        }
      ],
      "source": [
        "print(model.w)"
      ]
    },
    {
      "cell_type": "markdown",
      "metadata": {
        "hidden": true,
        "id": "73n0qSOMf9Sr"
      },
      "source": [
        "### Avaliação do modelo"
      ]
    },
    {
      "cell_type": "code",
      "execution_count": 32,
      "metadata": {
        "colab": {
          "base_uri": "https://localhost:8080/"
        },
        "hidden": true,
        "id": "dI2TE8W6f9Ss",
        "outputId": "743b7c4c-e361-4c1d-ec67-bb35eb1cdc43"
      },
      "outputs": [
        {
          "data": {
            "text/plain": [
              "0.02117000379151052"
            ]
          },
          "execution_count": 32,
          "metadata": {},
          "output_type": "execute_result"
        }
      ],
      "source": [
        "loss = np.square(y_pred - y_train).mean()\n",
        "loss"
      ]
    },
    {
      "cell_type": "markdown",
      "metadata": {
        "hidden": true,
        "id": "cv6q3ElSf9Sv"
      },
      "source": [
        "### Valor ótimo, solução analítica"
      ]
    },
    {
      "cell_type": "markdown",
      "metadata": {
        "hidden": true,
        "id": "qYgHOaNmf9Sv"
      },
      "source": [
        "$$  \\mathbf{w} =(\\mathbf{x^T} \\mathbf{x})^{−1}\\mathbf{x^T} \\mathbf{y} $$"
      ]
    },
    {
      "cell_type": "code",
      "execution_count": 33,
      "metadata": {
        "ExecuteTime": {
          "end_time": "2017-10-08T11:19:39.432480Z",
          "start_time": "2017-10-08T11:19:39.420006Z"
        },
        "colab": {
          "base_uri": "https://localhost:8080/"
        },
        "hidden": true,
        "id": "OmrggYvmf9Sw",
        "outputId": "4c8e21d5-c00c-443a-f701-0e4693444321"
      },
      "outputs": [
        {
          "name": "stdout",
          "output_type": "stream",
          "text": [
            "[[0.26134159 0.68646976]]\n"
          ]
        }
      ],
      "source": [
        "x = x_train_bias\n",
        "y = y_train\n",
        "w_opt = (np.linalg.inv((x.T).dot(x)).dot(x.T)).dot(y)\n",
        "print(w_opt.T)"
      ]
    },
    {
      "cell_type": "markdown",
      "metadata": {
        "heading_collapsed": true,
        "id": "2eMOcW8Ff9Sz"
      },
      "source": [
        "# Exercícios"
      ]
    },
    {
      "cell_type": "markdown",
      "metadata": {
        "hidden": true,
        "id": "tCKeOB1-f9S1"
      },
      "source": [
        "## Questões"
      ]
    },
    {
      "cell_type": "markdown",
      "metadata": {
        "hidden": true,
        "id": "c-KyP13vf9S2"
      },
      "source": [
        "1. Quantos parâmetros são treinados nesse modelo?\n",
        "\n",
        "2. Qual é o número de atributos de entrada para a rede?\n",
        "\n",
        "3. Qual é o número de saídas da rede?\n",
        "\n",
        "4. Suponha que eu tenha agora 5 mil amostras para fazer a predição. Qual é o shape da matriz de entrada?\n",
        "   Qual é o shape do matriz de saída?\n"
      ]
    },
    {
      "cell_type": "markdown",
      "metadata": {},
      "source": [
        "1. Quantos parâmetros são treinados nesse modelo?\n",
        "\n",
        "R.: 2, w0 e w1\n",
        "\n",
        "2. Qual é o número de atributos de entrada para a rede?\n",
        "\n",
        "R.: 2 (bias + x)\n",
        "\n",
        "3. Qual é o número de saídas da rede?\n",
        "\n",
        "R.: 1\n",
        "\n",
        "4. Suponha que eu tenha agora 5 mil amostras para fazer a predição. Qual é o shape da matriz de entrada?\n",
        "   Qual é o shape do matriz de saída?\n",
        "\n",
        "R.: \n",
        "\n",
        "[5000, 2] --> entrada\n",
        "\n",
        "[5000, 1] --> saida"
      ]
    },
    {
      "cell_type": "markdown",
      "metadata": {
        "hidden": true,
        "id": "oaj0t2gpf9S3"
      },
      "source": [
        "## Atividades"
      ]
    },
    {
      "cell_type": "markdown",
      "metadata": {
        "hidden": true,
        "id": "pR_fNYurf9S3"
      },
      "source": [
        "1. Modifique o laço do treinamento via gradiente descendente para guardar em uma lista, o valor da perda no final\n",
        "   de cada época. Após o treinamento, plote o valor da perda em função da época.\n",
        "2. Calcule o valor da perda (MSE) da rede com os parâmetros inicializados, sem serem treinados.\n",
        "3. Coloque os valores dos pesos da solução ótima analítica no modelo da rede e calcule o valor da perda (MSE) e\n",
        "   compare com o valor da perda obtida pelo método da otimização via gradiente descendente."
      ]
    },
    {
      "cell_type": "code",
      "execution_count": 34,
      "metadata": {},
      "outputs": [
        {
          "name": "stdout",
          "output_type": "stream",
          "text": [
            "Epoch[1/100], loss: 0.021170\n",
            "Epoch[2/100], loss: 0.021170\n",
            "Epoch[3/100], loss: 0.021170\n",
            "Epoch[4/100], loss: 0.021170\n",
            "Epoch[5/100], loss: 0.021170\n",
            "Epoch[6/100], loss: 0.021170\n",
            "Epoch[7/100], loss: 0.021170\n",
            "Epoch[8/100], loss: 0.021170\n",
            "Epoch[9/100], loss: 0.021170\n",
            "Epoch[10/100], loss: 0.021170\n",
            "Epoch[11/100], loss: 0.021170\n",
            "Epoch[12/100], loss: 0.021170\n",
            "Epoch[13/100], loss: 0.021170\n",
            "Epoch[14/100], loss: 0.021170\n",
            "Epoch[15/100], loss: 0.021170\n",
            "Epoch[16/100], loss: 0.021170\n",
            "Epoch[17/100], loss: 0.021170\n",
            "Epoch[18/100], loss: 0.021170\n",
            "Epoch[19/100], loss: 0.021170\n",
            "Epoch[20/100], loss: 0.021170\n",
            "Epoch[21/100], loss: 0.021170\n",
            "Epoch[22/100], loss: 0.021170\n",
            "Epoch[23/100], loss: 0.021169\n",
            "Epoch[24/100], loss: 0.021169\n",
            "Epoch[25/100], loss: 0.021169\n",
            "Epoch[26/100], loss: 0.021169\n",
            "Epoch[27/100], loss: 0.021169\n",
            "Epoch[28/100], loss: 0.021169\n",
            "Epoch[29/100], loss: 0.021169\n",
            "Epoch[30/100], loss: 0.021169\n",
            "Epoch[31/100], loss: 0.021169\n",
            "Epoch[32/100], loss: 0.021169\n",
            "Epoch[33/100], loss: 0.021169\n",
            "Epoch[34/100], loss: 0.021169\n",
            "Epoch[35/100], loss: 0.021169\n",
            "Epoch[36/100], loss: 0.021169\n",
            "Epoch[37/100], loss: 0.021169\n",
            "Epoch[38/100], loss: 0.021169\n",
            "Epoch[39/100], loss: 0.021169\n",
            "Epoch[40/100], loss: 0.021169\n",
            "Epoch[41/100], loss: 0.021169\n",
            "Epoch[42/100], loss: 0.021169\n",
            "Epoch[43/100], loss: 0.021169\n",
            "Epoch[44/100], loss: 0.021169\n",
            "Epoch[45/100], loss: 0.021169\n",
            "Epoch[46/100], loss: 0.021169\n",
            "Epoch[47/100], loss: 0.021169\n",
            "Epoch[48/100], loss: 0.021169\n",
            "Epoch[49/100], loss: 0.021169\n",
            "Epoch[50/100], loss: 0.021169\n",
            "Epoch[51/100], loss: 0.021169\n",
            "Epoch[52/100], loss: 0.021169\n",
            "Epoch[53/100], loss: 0.021169\n",
            "Epoch[54/100], loss: 0.021169\n",
            "Epoch[55/100], loss: 0.021169\n",
            "Epoch[56/100], loss: 0.021169\n",
            "Epoch[57/100], loss: 0.021169\n",
            "Epoch[58/100], loss: 0.021169\n",
            "Epoch[59/100], loss: 0.021169\n",
            "Epoch[60/100], loss: 0.021169\n",
            "Epoch[61/100], loss: 0.021169\n",
            "Epoch[62/100], loss: 0.021169\n",
            "Epoch[63/100], loss: 0.021169\n",
            "Epoch[64/100], loss: 0.021169\n",
            "Epoch[65/100], loss: 0.021169\n",
            "Epoch[66/100], loss: 0.021169\n",
            "Epoch[67/100], loss: 0.021169\n",
            "Epoch[68/100], loss: 0.021169\n",
            "Epoch[69/100], loss: 0.021169\n",
            "Epoch[70/100], loss: 0.021169\n",
            "Epoch[71/100], loss: 0.021169\n",
            "Epoch[72/100], loss: 0.021169\n",
            "Epoch[73/100], loss: 0.021169\n",
            "Epoch[74/100], loss: 0.021169\n",
            "Epoch[75/100], loss: 0.021169\n",
            "Epoch[76/100], loss: 0.021169\n",
            "Epoch[77/100], loss: 0.021169\n",
            "Epoch[78/100], loss: 0.021169\n",
            "Epoch[79/100], loss: 0.021169\n",
            "Epoch[80/100], loss: 0.021169\n",
            "Epoch[81/100], loss: 0.021169\n",
            "Epoch[82/100], loss: 0.021169\n",
            "Epoch[83/100], loss: 0.021169\n",
            "Epoch[84/100], loss: 0.021169\n",
            "Epoch[85/100], loss: 0.021169\n",
            "Epoch[86/100], loss: 0.021169\n",
            "Epoch[87/100], loss: 0.021169\n",
            "Epoch[88/100], loss: 0.021169\n",
            "Epoch[89/100], loss: 0.021169\n",
            "Epoch[90/100], loss: 0.021169\n",
            "Epoch[91/100], loss: 0.021169\n",
            "Epoch[92/100], loss: 0.021169\n",
            "Epoch[93/100], loss: 0.021169\n",
            "Epoch[94/100], loss: 0.021169\n",
            "Epoch[95/100], loss: 0.021169\n",
            "Epoch[96/100], loss: 0.021169\n",
            "Epoch[97/100], loss: 0.021169\n",
            "Epoch[98/100], loss: 0.021169\n",
            "Epoch[99/100], loss: 0.021169\n",
            "Epoch[100/100], loss: 0.021169\n"
          ]
        },
        {
          "data": {
            "image/png": "[encoded data removed]",
            "text/plain": [
              "<Figure size 640x480 with 1 Axes>"
            ]
          },
          "metadata": {},
          "output_type": "display_data"
        }
      ],
      "source": [
        "## 1. Modifique o laço do treinamento via gradiente descendente para guardar em uma lista, o valor da perda no final de cada época. Após o treinamento, plote o valor da perda em função da época.\n",
        "num_epochs = 100\n",
        "learning_rate = 0.5\n",
        "loss_history = []  # Lista para armazenar o valor da perda em cada época\n",
        "\n",
        "for epoch in range(num_epochs):\n",
        "    # forward - predict\n",
        "    y_pred = model.forward(x_train_bias)\n",
        "\n",
        "    # cálculo da função de perda\n",
        "    loss = np.square(y_pred - y_train).mean()\n",
        "    loss_history.append(loss)  # Armazena o valor da perda na lista\n",
        "\n",
        "    # cálculo do gradiente pelas derivadas parciais\n",
        "    w_grad = (2.0/n_samples) * (x_train_bias.T).dot(x_train_bias.dot(model.w.T) - y_train)\n",
        "\n",
        "    # gradiente descendente\n",
        "    model.w = model.w - learning_rate * w_grad.T\n",
        "\n",
        "    # verbose\n",
        "    if (epoch+1) % 1 == 0:\n",
        "        print('Epoch[{}/{}], loss: {:.6f}'\n",
        "              .format(epoch+1, num_epochs, loss))\n",
        "\n",
        "# Plotando a perda em função da época\n",
        "plt.plot(loss_history)\n",
        "plt.xlabel('Época')\n",
        "plt.ylabel('Perda (MSE)')\n",
        "plt.title('Perda por Época - Treinamento')\n",
        "plt.show()"
      ]
    },
    {
      "cell_type": "code",
      "execution_count": 35,
      "metadata": {},
      "outputs": [
        {
          "name": "stdout",
          "output_type": "stream",
          "text": [
            "Perda inicial: 0.02116942415600105\n"
          ]
        }
      ],
      "source": [
        "## 2. Calcule o valor da perda (MSE) da rede com os parâmetros inicializados, sem serem treinados.\n",
        "# Perda inicial\n",
        "y_pred_init = model.forward(x_train_bias)\n",
        "loss_init = np.square(y_pred_init - y_train).mean()\n",
        "print('Perda inicial:', loss_init)"
      ]
    },
    {
      "cell_type": "code",
      "execution_count": 36,
      "metadata": {},
      "outputs": [
        {
          "name": "stdout",
          "output_type": "stream",
          "text": [
            "Perda com pesos ótimos: 0.02116942411909716\n",
            "Diferença de perda: -4.0647454152553664e-11\n"
          ]
        }
      ],
      "source": [
        "## 3. Coloque os valores dos pesos da solução ótima analítica no modelo da rede e calcule o valor da perda (MSE) e compare com o valor da perda obtida pelo método da otimização via gradiente descendente.\n",
        "# Avaliação com pesos ótimos\n",
        "x = x_train_bias\n",
        "y = y_train\n",
        "w_opt = (np.linalg.inv((x.T).dot(x)).dot(x.T)).dot(y)\n",
        "\n",
        "model.w = w_opt.T\n",
        "\n",
        "y_pred_optimal = model.forward(x_train_bias)\n",
        "loss_optimal = np.square(y_pred_optimal - y_train).mean()\n",
        "print('Perda com pesos ótimos:', loss_optimal)\n",
        "\n",
        "# Comparação das perdas\n",
        "print('Diferença de perda:', loss_optimal - loss_history[-1])"
      ]
    },
    {
      "cell_type": "markdown",
      "metadata": {
        "collapsed": true,
        "id": "tgmMhSm2f9S4"
      },
      "source": [
        "# Aprendizados"
      ]
    },
    {
      "cell_type": "markdown",
      "metadata": {},
      "source": [
        "Aprendi como funciona um treinamento de rede neural artificial utilizando gradiente descedentes e a como modificar o laço do treinamento via gradiente descendente para guardar em uma lista, o valor da perda no final de cada época. Após o treinamento, plote o valor da perda em função da época, a calcular o valor da perda (MSE) da rede com os parâmetros inicializados, sem serem treinados e a colocar os valores dos pesos da solução ótima analítica no modelo da rede e calcule o valor da perda (MSE) e comparar com o valor da perda obtida pelo método da otimização via gradiente descendente."
      ]
    }
  ],
  "metadata": {
    "accelerator": "TPU",
    "colab": {
      "name": "2.2-LinearRegressionIrisNumPy.ipynb",
      "provenance": []
    },
    "kernelspec": {
      "display_name": "Python 3.10.2 64-bit",
      "language": "python",
      "name": "python3"
    },
    "language_info": {
      "codemirror_mode": {
        "name": "ipython",
        "version": 3
      },
      "file_extension": ".py",
      "mimetype": "text/x-python",
      "name": "python",
      "nbconvert_exporter": "python",
      "pygments_lexer": "ipython3",
      "version": "3.10.14"
    },
    "vscode": {
      "interpreter": {
        "hash": "5fe3e6f0cdaab8afdc61c52912fda83f7c0a71baaea1897dd7498e2df01e69ec"
      }
    }
  },
  "nbformat": 4,
  "nbformat_minor": 0
}
